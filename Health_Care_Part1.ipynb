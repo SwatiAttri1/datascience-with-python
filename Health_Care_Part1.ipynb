{
 "cells": [
  {
   "cell_type": "code",
   "execution_count": 1,
   "metadata": {},
   "outputs": [],
   "source": [
    "import pandas as pd\n",
    "import numpy as np\n"
   ]
  },
  {
   "cell_type": "code",
   "execution_count": 2,
   "metadata": {},
   "outputs": [],
   "source": [
    "health_out=pd.read_csv(\"Medicare_Provider_Charge_Outpatient_APC30_CY2011_v2.csv\")\n",
    "health_in=pd.read_csv(\"Medicare_Provider_Charge_Inpatient_DRG100_FY2011.csv\")"
   ]
  },
  {
   "cell_type": "code",
   "execution_count": 7,
   "metadata": {},
   "outputs": [
    {
     "data": {
      "text/plain": [
       "Index([u'DRG Definition', u'Provider Id', u'Provider Name',\n",
       "       u'Provider Street Address', u'Provider City', u'Provider State',\n",
       "       u'Provider Zip Code', u'Hospital Referral Region (HRR) Description',\n",
       "       u'Total Discharges', u'Average Covered Charges',\n",
       "       u'Average Total Payments', u'Average Medicare Payments'],\n",
       "      dtype='object')"
      ]
     },
     "execution_count": 7,
     "metadata": {},
     "output_type": "execute_result"
    }
   ],
   "source": [
    "health_in.columns"
   ]
  },
  {
   "cell_type": "code",
   "execution_count": 3,
   "metadata": {},
   "outputs": [
    {
     "data": {
      "text/html": [
       "<div>\n",
       "<style scoped>\n",
       "    .dataframe tbody tr th:only-of-type {\n",
       "        vertical-align: middle;\n",
       "    }\n",
       "\n",
       "    .dataframe tbody tr th {\n",
       "        vertical-align: top;\n",
       "    }\n",
       "\n",
       "    .dataframe thead th {\n",
       "        text-align: right;\n",
       "    }\n",
       "</style>\n",
       "<table border=\"1\" class=\"dataframe\">\n",
       "  <thead>\n",
       "    <tr style=\"text-align: right;\">\n",
       "      <th></th>\n",
       "      <th>APC</th>\n",
       "      <th>Provider Id</th>\n",
       "      <th>Provider Name</th>\n",
       "      <th>Provider Street Address</th>\n",
       "      <th>Provider City</th>\n",
       "      <th>Provider State</th>\n",
       "      <th>Provider Zip Code</th>\n",
       "      <th>Hospital Referral Region (HRR) Description</th>\n",
       "      <th>Outpatient Services</th>\n",
       "      <th>Average  Estimated Submitted Charges</th>\n",
       "      <th>Average Total Payments</th>\n",
       "    </tr>\n",
       "  </thead>\n",
       "  <tbody>\n",
       "    <tr>\n",
       "      <th>0</th>\n",
       "      <td>0012 - Level I Debridement &amp; Destruction</td>\n",
       "      <td>10029</td>\n",
       "      <td>EAST ALABAMA MEDICAL CENTER AND SNF</td>\n",
       "      <td>2000 PEPPERELL PARKWAY</td>\n",
       "      <td>OPELIKA</td>\n",
       "      <td>AL</td>\n",
       "      <td>36801</td>\n",
       "      <td>AL - Birmingham</td>\n",
       "      <td>23</td>\n",
       "      <td>78.086957</td>\n",
       "      <td>21.910435</td>\n",
       "    </tr>\n",
       "    <tr>\n",
       "      <th>1</th>\n",
       "      <td>0012 - Level I Debridement &amp; Destruction</td>\n",
       "      <td>20024</td>\n",
       "      <td>CENTRAL PENINSULA GENERAL HOSPITAL</td>\n",
       "      <td>250 HOSPITAL PLACE</td>\n",
       "      <td>SOLDOTNA</td>\n",
       "      <td>AK</td>\n",
       "      <td>99669</td>\n",
       "      <td>AK - Anchorage</td>\n",
       "      <td>994</td>\n",
       "      <td>149.589749</td>\n",
       "      <td>36.623853</td>\n",
       "    </tr>\n",
       "    <tr>\n",
       "      <th>2</th>\n",
       "      <td>0012 - Level I Debridement &amp; Destruction</td>\n",
       "      <td>30064</td>\n",
       "      <td>UNIVERSITY OF ARIZONA MEDICAL CTR-UNIVERSIT, THE</td>\n",
       "      <td>1501 NORTH CAMPBELL AVENUE</td>\n",
       "      <td>TUCSON</td>\n",
       "      <td>AZ</td>\n",
       "      <td>85724</td>\n",
       "      <td>AZ - Tucson</td>\n",
       "      <td>1765</td>\n",
       "      <td>50.135411</td>\n",
       "      <td>14.541841</td>\n",
       "    </tr>\n",
       "    <tr>\n",
       "      <th>3</th>\n",
       "      <td>0012 - Level I Debridement &amp; Destruction</td>\n",
       "      <td>30088</td>\n",
       "      <td>BANNER BAYWOOD MEDICAL CENTER</td>\n",
       "      <td>6644 EAST BAYWOOD AVENUE</td>\n",
       "      <td>MESA</td>\n",
       "      <td>AZ</td>\n",
       "      <td>85206</td>\n",
       "      <td>AZ - Mesa</td>\n",
       "      <td>20</td>\n",
       "      <td>112.400000</td>\n",
       "      <td>23.736000</td>\n",
       "    </tr>\n",
       "    <tr>\n",
       "      <th>4</th>\n",
       "      <td>0012 - Level I Debridement &amp; Destruction</td>\n",
       "      <td>30111</td>\n",
       "      <td>UNIVERSITY OF ARIZONA MEDICAL CTR- SOUTH CAM, THE</td>\n",
       "      <td>2800 EAST AJO WAY</td>\n",
       "      <td>TUCSON</td>\n",
       "      <td>AZ</td>\n",
       "      <td>85713</td>\n",
       "      <td>AZ - Tucson</td>\n",
       "      <td>22</td>\n",
       "      <td>152.045455</td>\n",
       "      <td>16.569091</td>\n",
       "    </tr>\n",
       "  </tbody>\n",
       "</table>\n",
       "</div>"
      ],
      "text/plain": [
       "                                        APC  Provider Id  \\\n",
       "0  0012 - Level I Debridement & Destruction        10029   \n",
       "1  0012 - Level I Debridement & Destruction        20024   \n",
       "2  0012 - Level I Debridement & Destruction        30064   \n",
       "3  0012 - Level I Debridement & Destruction        30088   \n",
       "4  0012 - Level I Debridement & Destruction        30111   \n",
       "\n",
       "                                       Provider Name  \\\n",
       "0                EAST ALABAMA MEDICAL CENTER AND SNF   \n",
       "1                 CENTRAL PENINSULA GENERAL HOSPITAL   \n",
       "2   UNIVERSITY OF ARIZONA MEDICAL CTR-UNIVERSIT, THE   \n",
       "3                      BANNER BAYWOOD MEDICAL CENTER   \n",
       "4  UNIVERSITY OF ARIZONA MEDICAL CTR- SOUTH CAM, THE   \n",
       "\n",
       "      Provider Street Address Provider City Provider State  Provider Zip Code  \\\n",
       "0      2000 PEPPERELL PARKWAY       OPELIKA             AL              36801   \n",
       "1          250 HOSPITAL PLACE      SOLDOTNA             AK              99669   \n",
       "2  1501 NORTH CAMPBELL AVENUE        TUCSON             AZ              85724   \n",
       "3    6644 EAST BAYWOOD AVENUE          MESA             AZ              85206   \n",
       "4           2800 EAST AJO WAY        TUCSON             AZ              85713   \n",
       "\n",
       "  Hospital Referral Region (HRR) Description  Outpatient Services  \\\n",
       "0                            AL - Birmingham                   23   \n",
       "1                             AK - Anchorage                  994   \n",
       "2                                AZ - Tucson                 1765   \n",
       "3                                  AZ - Mesa                   20   \n",
       "4                                AZ - Tucson                   22   \n",
       "\n",
       "   Average  Estimated Submitted Charges  Average Total Payments  \n",
       "0                             78.086957               21.910435  \n",
       "1                            149.589749               36.623853  \n",
       "2                             50.135411               14.541841  \n",
       "3                            112.400000               23.736000  \n",
       "4                            152.045455               16.569091  "
      ]
     },
     "execution_count": 3,
     "metadata": {},
     "output_type": "execute_result"
    }
   ],
   "source": [
    "health_out.head()"
   ]
  },
  {
   "cell_type": "code",
   "execution_count": 20,
   "metadata": {
    "scrolled": true
   },
   "outputs": [],
   "source": [
    "health_out_pivot=pd.pivot_table(health_out,index=[\"APC\"],aggfunc=['mean','std'])"
   ]
  },
  {
   "cell_type": "code",
   "execution_count": 22,
   "metadata": {},
   "outputs": [
    {
     "data": {
      "text/html": [
       "<div>\n",
       "<style scoped>\n",
       "    .dataframe tbody tr th:only-of-type {\n",
       "        vertical-align: middle;\n",
       "    }\n",
       "\n",
       "    .dataframe tbody tr th {\n",
       "        vertical-align: top;\n",
       "    }\n",
       "\n",
       "    .dataframe thead tr th {\n",
       "        text-align: left;\n",
       "    }\n",
       "\n",
       "    .dataframe thead tr:last-of-type th {\n",
       "        text-align: right;\n",
       "    }\n",
       "</style>\n",
       "<table border=\"1\" class=\"dataframe\">\n",
       "  <thead>\n",
       "    <tr>\n",
       "      <th></th>\n",
       "      <th colspan=\"5\" halign=\"left\">mean</th>\n",
       "      <th colspan=\"5\" halign=\"left\">std</th>\n",
       "    </tr>\n",
       "    <tr>\n",
       "      <th></th>\n",
       "      <th>Average  Estimated Submitted Charges</th>\n",
       "      <th>Average Total Payments</th>\n",
       "      <th>Outpatient Services</th>\n",
       "      <th>Provider Id</th>\n",
       "      <th>Provider Zip Code</th>\n",
       "      <th>Average  Estimated Submitted Charges</th>\n",
       "      <th>Average Total Payments</th>\n",
       "      <th>Outpatient Services</th>\n",
       "      <th>Provider Id</th>\n",
       "      <th>Provider Zip Code</th>\n",
       "    </tr>\n",
       "    <tr>\n",
       "      <th>APC</th>\n",
       "      <th></th>\n",
       "      <th></th>\n",
       "      <th></th>\n",
       "      <th></th>\n",
       "      <th></th>\n",
       "      <th></th>\n",
       "      <th></th>\n",
       "      <th></th>\n",
       "      <th></th>\n",
       "      <th></th>\n",
       "    </tr>\n",
       "  </thead>\n",
       "  <tbody>\n",
       "    <tr>\n",
       "      <th>0012 - Level I Debridement &amp; Destruction</th>\n",
       "      <td>91.084383</td>\n",
       "      <td>17.781850</td>\n",
       "      <td>943.127148</td>\n",
       "      <td>270619.082474</td>\n",
       "      <td>50781.175258</td>\n",
       "      <td>95.646537</td>\n",
       "      <td>4.540575</td>\n",
       "      <td>2253.251664</td>\n",
       "      <td>150259.109135</td>\n",
       "      <td>30583.085570</td>\n",
       "    </tr>\n",
       "    <tr>\n",
       "      <th>0013 - Level II Debridement &amp; Destruction</th>\n",
       "      <td>262.557685</td>\n",
       "      <td>56.142408</td>\n",
       "      <td>292.164300</td>\n",
       "      <td>269293.345504</td>\n",
       "      <td>48892.743746</td>\n",
       "      <td>255.987420</td>\n",
       "      <td>8.376669</td>\n",
       "      <td>762.256699</td>\n",
       "      <td>151859.730556</td>\n",
       "      <td>27409.355885</td>\n",
       "    </tr>\n",
       "    <tr>\n",
       "      <th>0015 - Level III Debridement &amp; Destruction</th>\n",
       "      <td>362.121980</td>\n",
       "      <td>97.974325</td>\n",
       "      <td>330.726206</td>\n",
       "      <td>267258.335724</td>\n",
       "      <td>48608.612777</td>\n",
       "      <td>240.708776</td>\n",
       "      <td>10.745720</td>\n",
       "      <td>423.945417</td>\n",
       "      <td>151369.238433</td>\n",
       "      <td>27469.455049</td>\n",
       "    </tr>\n",
       "    <tr>\n",
       "      <th>0019 - Level I Excision/ Biopsy</th>\n",
       "      <td>2264.425957</td>\n",
       "      <td>331.747713</td>\n",
       "      <td>48.411236</td>\n",
       "      <td>275490.105618</td>\n",
       "      <td>39040.274157</td>\n",
       "      <td>2785.011224</td>\n",
       "      <td>35.414551</td>\n",
       "      <td>73.224598</td>\n",
       "      <td>137858.770186</td>\n",
       "      <td>26896.620195</td>\n",
       "    </tr>\n",
       "    <tr>\n",
       "      <th>0020 - Level II Excision/ Biopsy</th>\n",
       "      <td>3430.854940</td>\n",
       "      <td>568.756230</td>\n",
       "      <td>31.476415</td>\n",
       "      <td>256539.554717</td>\n",
       "      <td>44479.902830</td>\n",
       "      <td>2524.137505</td>\n",
       "      <td>60.962865</td>\n",
       "      <td>31.714115</td>\n",
       "      <td>146608.980230</td>\n",
       "      <td>27464.186069</td>\n",
       "    </tr>\n",
       "  </tbody>\n",
       "</table>\n",
       "</div>"
      ],
      "text/plain": [
       "                                                                           mean  \\\n",
       "                                           Average  Estimated Submitted Charges   \n",
       "APC                                                                               \n",
       "0012 - Level I Debridement & Destruction                              91.084383   \n",
       "0013 - Level II Debridement & Destruction                            262.557685   \n",
       "0015 - Level III Debridement & Destruction                           362.121980   \n",
       "0019 - Level I Excision/ Biopsy                                     2264.425957   \n",
       "0020 - Level II Excision/ Biopsy                                    3430.854940   \n",
       "\n",
       "                                                                   \\\n",
       "                                           Average Total Payments   \n",
       "APC                                                                 \n",
       "0012 - Level I Debridement & Destruction                17.781850   \n",
       "0013 - Level II Debridement & Destruction               56.142408   \n",
       "0015 - Level III Debridement & Destruction              97.974325   \n",
       "0019 - Level I Excision/ Biopsy                        331.747713   \n",
       "0020 - Level II Excision/ Biopsy                       568.756230   \n",
       "\n",
       "                                                                               \\\n",
       "                                           Outpatient Services    Provider Id   \n",
       "APC                                                                             \n",
       "0012 - Level I Debridement & Destruction            943.127148  270619.082474   \n",
       "0013 - Level II Debridement & Destruction           292.164300  269293.345504   \n",
       "0015 - Level III Debridement & Destruction          330.726206  267258.335724   \n",
       "0019 - Level I Excision/ Biopsy                      48.411236  275490.105618   \n",
       "0020 - Level II Excision/ Biopsy                     31.476415  256539.554717   \n",
       "\n",
       "                                                              \\\n",
       "                                           Provider Zip Code   \n",
       "APC                                                            \n",
       "0012 - Level I Debridement & Destruction        50781.175258   \n",
       "0013 - Level II Debridement & Destruction       48892.743746   \n",
       "0015 - Level III Debridement & Destruction      48608.612777   \n",
       "0019 - Level I Excision/ Biopsy                 39040.274157   \n",
       "0020 - Level II Excision/ Biopsy                44479.902830   \n",
       "\n",
       "                                                                            std  \\\n",
       "                                           Average  Estimated Submitted Charges   \n",
       "APC                                                                               \n",
       "0012 - Level I Debridement & Destruction                              95.646537   \n",
       "0013 - Level II Debridement & Destruction                            255.987420   \n",
       "0015 - Level III Debridement & Destruction                           240.708776   \n",
       "0019 - Level I Excision/ Biopsy                                     2785.011224   \n",
       "0020 - Level II Excision/ Biopsy                                    2524.137505   \n",
       "\n",
       "                                                                   \\\n",
       "                                           Average Total Payments   \n",
       "APC                                                                 \n",
       "0012 - Level I Debridement & Destruction                 4.540575   \n",
       "0013 - Level II Debridement & Destruction                8.376669   \n",
       "0015 - Level III Debridement & Destruction              10.745720   \n",
       "0019 - Level I Excision/ Biopsy                         35.414551   \n",
       "0020 - Level II Excision/ Biopsy                        60.962865   \n",
       "\n",
       "                                                                               \\\n",
       "                                           Outpatient Services    Provider Id   \n",
       "APC                                                                             \n",
       "0012 - Level I Debridement & Destruction           2253.251664  150259.109135   \n",
       "0013 - Level II Debridement & Destruction           762.256699  151859.730556   \n",
       "0015 - Level III Debridement & Destruction          423.945417  151369.238433   \n",
       "0019 - Level I Excision/ Biopsy                      73.224598  137858.770186   \n",
       "0020 - Level II Excision/ Biopsy                     31.714115  146608.980230   \n",
       "\n",
       "                                                              \n",
       "                                           Provider Zip Code  \n",
       "APC                                                           \n",
       "0012 - Level I Debridement & Destruction        30583.085570  \n",
       "0013 - Level II Debridement & Destruction       27409.355885  \n",
       "0015 - Level III Debridement & Destruction      27469.455049  \n",
       "0019 - Level I Excision/ Biopsy                 26896.620195  \n",
       "0020 - Level II Excision/ Biopsy                27464.186069  "
      ]
     },
     "execution_count": 22,
     "metadata": {},
     "output_type": "execute_result"
    }
   ],
   "source": [
    "health_out_pivot.head()"
   ]
  },
  {
   "cell_type": "code",
   "execution_count": 35,
   "metadata": {},
   "outputs": [
    {
     "data": {
      "text/plain": [
       "MultiIndex(levels=[[u'mean', u'std'], [u'Average  Estimated Submitted Charges', u'Average Total Payments', u'Outpatient Services', u'Provider Id', u'Provider Zip Code']],\n",
       "           labels=[[0, 1], [1, 1]])"
      ]
     },
     "execution_count": 35,
     "metadata": {},
     "output_type": "execute_result"
    }
   ],
   "source": [
    "health_out_pivotdf=health_out_pivot.iloc[:,[1,6]]\n",
    "health_out_pivotdf.columns."
   ]
  },
  {
   "cell_type": "markdown",
   "metadata": {},
   "source": [
    "# Part 1A: Highest Cost Variation"
   ]
  },
  {
   "cell_type": "code",
   "execution_count": 147,
   "metadata": {
    "scrolled": true
   },
   "outputs": [
    {
     "data": {
      "text/html": [
       "<div>\n",
       "<style scoped>\n",
       "    .dataframe tbody tr th:only-of-type {\n",
       "        vertical-align: middle;\n",
       "    }\n",
       "\n",
       "    .dataframe tbody tr th {\n",
       "        vertical-align: top;\n",
       "    }\n",
       "\n",
       "    .dataframe thead th {\n",
       "        text-align: right;\n",
       "    }\n",
       "</style>\n",
       "<table border=\"1\" class=\"dataframe\">\n",
       "  <thead>\n",
       "    <tr style=\"text-align: right;\">\n",
       "      <th></th>\n",
       "      <th>Average  Estimated Submitted Charges</th>\n",
       "    </tr>\n",
       "    <tr>\n",
       "      <th>APC</th>\n",
       "      <th></th>\n",
       "    </tr>\n",
       "  </thead>\n",
       "  <tbody>\n",
       "    <tr>\n",
       "      <th>0604 - Level 1 Hospital Clinic Visits</th>\n",
       "      <td>1.385150</td>\n",
       "    </tr>\n",
       "    <tr>\n",
       "      <th>0698 - Level II Eye Tests &amp; Treatments</th>\n",
       "      <td>1.310444</td>\n",
       "    </tr>\n",
       "    <tr>\n",
       "      <th>0019 - Level I Excision/ Biopsy</th>\n",
       "      <td>1.229897</td>\n",
       "    </tr>\n",
       "  </tbody>\n",
       "</table>\n",
       "</div>"
      ],
      "text/plain": [
       "                                        Average  Estimated Submitted Charges\n",
       "APC                                                                         \n",
       "0604 - Level 1 Hospital Clinic Visits                               1.385150\n",
       "0698 - Level II Eye Tests & Treatments                              1.310444\n",
       "0019 - Level I Excision/ Biopsy                                     1.229897"
      ]
     },
     "execution_count": 147,
     "metadata": {},
     "output_type": "execute_result"
    }
   ],
   "source": [
    "health_out_mean=health_out[['APC','Average  Estimated Submitted Charges']].groupby(['APC']).mean()\n",
    "health_out_std=health_out[['APC','Average  Estimated Submitted Charges']].groupby(['APC']).std()\n",
    "stdbymean=health_out_std/health_out_mean\n",
    "stdbymeansorted=stdbymean.sort_values(by='Average  Estimated Submitted Charges',ascending=False).head(3)\n",
    "stdbymeansorted"
   ]
  },
  {
   "cell_type": "code",
   "execution_count": 148,
   "metadata": {
    "scrolled": true
   },
   "outputs": [
    {
     "data": {
      "text/html": [
       "<div>\n",
       "<style scoped>\n",
       "    .dataframe tbody tr th:only-of-type {\n",
       "        vertical-align: middle;\n",
       "    }\n",
       "\n",
       "    .dataframe tbody tr th {\n",
       "        vertical-align: top;\n",
       "    }\n",
       "\n",
       "    .dataframe thead th {\n",
       "        text-align: right;\n",
       "    }\n",
       "</style>\n",
       "<table border=\"1\" class=\"dataframe\">\n",
       "  <thead>\n",
       "    <tr style=\"text-align: right;\">\n",
       "      <th></th>\n",
       "      <th>Average Covered Charges</th>\n",
       "    </tr>\n",
       "    <tr>\n",
       "      <th>DRG Definition</th>\n",
       "      <th></th>\n",
       "    </tr>\n",
       "  </thead>\n",
       "  <tbody>\n",
       "    <tr>\n",
       "      <th>885 - PSYCHOSES</th>\n",
       "      <td>0.717796</td>\n",
       "    </tr>\n",
       "    <tr>\n",
       "      <th>897 - ALCOHOL/DRUG ABUSE OR DEPENDENCE W/O REHABILITATION THERAPY W/O MCC</th>\n",
       "      <td>0.633967</td>\n",
       "    </tr>\n",
       "    <tr>\n",
       "      <th>917 - POISONING &amp; TOXIC EFFECTS OF DRUGS W MCC</th>\n",
       "      <td>0.613150</td>\n",
       "    </tr>\n",
       "  </tbody>\n",
       "</table>\n",
       "</div>"
      ],
      "text/plain": [
       "                                                    Average Covered Charges\n",
       "DRG Definition                                                             \n",
       "885 - PSYCHOSES                                                    0.717796\n",
       "897 - ALCOHOL/DRUG ABUSE OR DEPENDENCE W/O REHA...                 0.633967\n",
       "917 - POISONING & TOXIC EFFECTS OF DRUGS W MCC                     0.613150"
      ]
     },
     "execution_count": 148,
     "metadata": {},
     "output_type": "execute_result"
    }
   ],
   "source": [
    "health_in_mean=health_in[['DRG Definition','Average Covered Charges']].groupby(['DRG Definition']).mean()\n",
    "health_in_std=health_in[['DRG Definition','Average Covered Charges']].groupby(['DRG Definition']).std()\n",
    "stdbymean_in=health_in_std/health_in_mean\n",
    "stdbymean_in_sorted=stdbymean_in.sort_values(by='Average Covered Charges',ascending=False).head(3)\n",
    "stdbymean_in_sorted"
   ]
  },
  {
   "cell_type": "markdown",
   "metadata": {},
   "source": [
    "# Parts 1B and 1C: Highest-Cost Claims by Provider and Region"
   ]
  },
  {
   "cell_type": "markdown",
   "metadata": {},
   "source": [
    "## Part 1B : Highest -cost claim by provider"
   ]
  },
  {
   "cell_type": "markdown",
   "metadata": {},
   "source": [
    "#### Inpatient data"
   ]
  },
  {
   "cell_type": "markdown",
   "metadata": {},
   "source": [
    "Find details about drug/medicine where it is having maximum charges"
   ]
  },
  {
   "cell_type": "code",
   "execution_count": 149,
   "metadata": {},
   "outputs": [],
   "source": [
    "gg=pd.DataFrame(health_in[['DRG Definition','Average Covered Charges']].groupby(['DRG Definition']).max().add_suffix('_max'))\n",
    "#gg.sort_values(by='Average Covered Charges',ascending=False).head()"
   ]
  },
  {
   "cell_type": "code",
   "execution_count": null,
   "metadata": {},
   "outputs": [],
   "source": [
    "#Convert to dataframe"
   ]
  },
  {
   "cell_type": "code",
   "execution_count": null,
   "metadata": {
    "scrolled": true
   },
   "outputs": [],
   "source": [
    "df=gg.reset_index()\n",
    "df"
   ]
  },
  {
   "cell_type": "code",
   "execution_count": null,
   "metadata": {},
   "outputs": [],
   "source": [
    "#In order to find provider which is providing highest cost medicine merge below 2 datasets"
   ]
  },
  {
   "cell_type": "code",
   "execution_count": 152,
   "metadata": {},
   "outputs": [
    {
     "data": {
      "text/html": [
       "<div>\n",
       "<style scoped>\n",
       "    .dataframe tbody tr th:only-of-type {\n",
       "        vertical-align: middle;\n",
       "    }\n",
       "\n",
       "    .dataframe tbody tr th {\n",
       "        vertical-align: top;\n",
       "    }\n",
       "\n",
       "    .dataframe thead th {\n",
       "        text-align: right;\n",
       "    }\n",
       "</style>\n",
       "<table border=\"1\" class=\"dataframe\">\n",
       "  <thead>\n",
       "    <tr style=\"text-align: right;\">\n",
       "      <th></th>\n",
       "      <th>DRG Definition</th>\n",
       "      <th>Average Covered Charges</th>\n",
       "      <th>Provider Name</th>\n",
       "    </tr>\n",
       "  </thead>\n",
       "  <tbody>\n",
       "    <tr>\n",
       "      <th>0</th>\n",
       "      <td>039 - EXTRACRANIAL PROCEDURES W/O CC/MCC</td>\n",
       "      <td>32963.07692</td>\n",
       "      <td>SOUTHEAST ALABAMA MEDICAL CENTER</td>\n",
       "    </tr>\n",
       "    <tr>\n",
       "      <th>1</th>\n",
       "      <td>039 - EXTRACRANIAL PROCEDURES W/O CC/MCC</td>\n",
       "      <td>15131.85714</td>\n",
       "      <td>MARSHALL MEDICAL CENTER SOUTH</td>\n",
       "    </tr>\n",
       "    <tr>\n",
       "      <th>2</th>\n",
       "      <td>039 - EXTRACRANIAL PROCEDURES W/O CC/MCC</td>\n",
       "      <td>37560.37500</td>\n",
       "      <td>ELIZA COFFEE MEMORIAL HOSPITAL</td>\n",
       "    </tr>\n",
       "    <tr>\n",
       "      <th>3</th>\n",
       "      <td>039 - EXTRACRANIAL PROCEDURES W/O CC/MCC</td>\n",
       "      <td>13998.28000</td>\n",
       "      <td>ST VINCENT'S EAST</td>\n",
       "    </tr>\n",
       "    <tr>\n",
       "      <th>4</th>\n",
       "      <td>039 - EXTRACRANIAL PROCEDURES W/O CC/MCC</td>\n",
       "      <td>31633.27778</td>\n",
       "      <td>SHELBY BAPTIST MEDICAL CENTER</td>\n",
       "    </tr>\n",
       "  </tbody>\n",
       "</table>\n",
       "</div>"
      ],
      "text/plain": [
       "                             DRG Definition  Average Covered Charges  \\\n",
       "0  039 - EXTRACRANIAL PROCEDURES W/O CC/MCC              32963.07692   \n",
       "1  039 - EXTRACRANIAL PROCEDURES W/O CC/MCC              15131.85714   \n",
       "2  039 - EXTRACRANIAL PROCEDURES W/O CC/MCC              37560.37500   \n",
       "3  039 - EXTRACRANIAL PROCEDURES W/O CC/MCC              13998.28000   \n",
       "4  039 - EXTRACRANIAL PROCEDURES W/O CC/MCC              31633.27778   \n",
       "\n",
       "                      Provider Name  \n",
       "0  SOUTHEAST ALABAMA MEDICAL CENTER  \n",
       "1     MARSHALL MEDICAL CENTER SOUTH  \n",
       "2    ELIZA COFFEE MEMORIAL HOSPITAL  \n",
       "3                 ST VINCENT'S EAST  \n",
       "4     SHELBY BAPTIST MEDICAL CENTER  "
      ]
     },
     "execution_count": 152,
     "metadata": {},
     "output_type": "execute_result"
    }
   ],
   "source": [
    "health_in_1=health_in[['DRG Definition','Average Covered Charges','Provider Name']]\n",
    "health_in_1.head()"
   ]
  },
  {
   "cell_type": "code",
   "execution_count": 153,
   "metadata": {},
   "outputs": [],
   "source": [
    "merged_in=health_in_1.merge(df,on='DRG Definition',how='inner')\n",
    "merged_in.to_csv('after2merge.csv')"
   ]
  },
  {
   "cell_type": "code",
   "execution_count": null,
   "metadata": {},
   "outputs": [],
   "source": [
    "# Define function to count which provider is claiming highest number of times the max charges"
   ]
  },
  {
   "cell_type": "code",
   "execution_count": 154,
   "metadata": {},
   "outputs": [],
   "source": [
    "def count(merged_in):\n",
    "    if ((merged_in['Average Covered Charges_max']  == merged_in['Average Covered Charges'])):\n",
    "        return 1\n",
    "    else:\n",
    "        return 0"
   ]
  },
  {
   "cell_type": "code",
   "execution_count": 155,
   "metadata": {},
   "outputs": [
    {
     "data": {
      "text/plain": [
       "BAYONNE HOSPITAL CENTER          23\n",
       "CROZER CHESTER MEDICAL CENTER    11\n",
       "STANFORD HOSPITAL                10\n",
       "Name: Provider Name, dtype: int64"
      ]
     },
     "execution_count": 155,
     "metadata": {},
     "output_type": "execute_result"
    }
   ],
   "source": [
    "merged_in['MAX'] = merged_in.apply(count, axis=1)\n",
    "#hh2\n",
    "merged_in['Provider Name'].where(merged_in['MAX']==1).value_counts().nlargest(3)"
   ]
  },
  {
   "cell_type": "markdown",
   "metadata": {},
   "source": [
    "#### Do the same procedure for outpatient data to see whether any provider is claiming more outpatient charges than inpatient"
   ]
  },
  {
   "cell_type": "code",
   "execution_count": 156,
   "metadata": {},
   "outputs": [],
   "source": [
    "health_out_1=pd.DataFrame(health_out[['APC','Average  Estimated Submitted Charges']].groupby(['APC']).max().add_suffix('_max'))\n",
    "#gg.sort_values(by='Average Covered Charges',ascending=False).head()"
   ]
  },
  {
   "cell_type": "code",
   "execution_count": 157,
   "metadata": {},
   "outputs": [],
   "source": [
    "df1=health_out_1.reset_index()"
   ]
  },
  {
   "cell_type": "code",
   "execution_count": 158,
   "metadata": {},
   "outputs": [
    {
     "data": {
      "text/html": [
       "<div>\n",
       "<style scoped>\n",
       "    .dataframe tbody tr th:only-of-type {\n",
       "        vertical-align: middle;\n",
       "    }\n",
       "\n",
       "    .dataframe tbody tr th {\n",
       "        vertical-align: top;\n",
       "    }\n",
       "\n",
       "    .dataframe thead th {\n",
       "        text-align: right;\n",
       "    }\n",
       "</style>\n",
       "<table border=\"1\" class=\"dataframe\">\n",
       "  <thead>\n",
       "    <tr style=\"text-align: right;\">\n",
       "      <th></th>\n",
       "      <th>APC</th>\n",
       "      <th>Average  Estimated Submitted Charges</th>\n",
       "      <th>Provider Name</th>\n",
       "    </tr>\n",
       "  </thead>\n",
       "  <tbody>\n",
       "    <tr>\n",
       "      <th>0</th>\n",
       "      <td>0012 - Level I Debridement &amp; Destruction</td>\n",
       "      <td>78.086957</td>\n",
       "      <td>EAST ALABAMA MEDICAL CENTER AND SNF</td>\n",
       "    </tr>\n",
       "    <tr>\n",
       "      <th>1</th>\n",
       "      <td>0012 - Level I Debridement &amp; Destruction</td>\n",
       "      <td>149.589749</td>\n",
       "      <td>CENTRAL PENINSULA GENERAL HOSPITAL</td>\n",
       "    </tr>\n",
       "    <tr>\n",
       "      <th>2</th>\n",
       "      <td>0012 - Level I Debridement &amp; Destruction</td>\n",
       "      <td>50.135411</td>\n",
       "      <td>UNIVERSITY OF ARIZONA MEDICAL CTR-UNIVERSIT, THE</td>\n",
       "    </tr>\n",
       "    <tr>\n",
       "      <th>3</th>\n",
       "      <td>0012 - Level I Debridement &amp; Destruction</td>\n",
       "      <td>112.400000</td>\n",
       "      <td>BANNER BAYWOOD MEDICAL CENTER</td>\n",
       "    </tr>\n",
       "    <tr>\n",
       "      <th>4</th>\n",
       "      <td>0012 - Level I Debridement &amp; Destruction</td>\n",
       "      <td>152.045455</td>\n",
       "      <td>UNIVERSITY OF ARIZONA MEDICAL CTR- SOUTH CAM, THE</td>\n",
       "    </tr>\n",
       "  </tbody>\n",
       "</table>\n",
       "</div>"
      ],
      "text/plain": [
       "                                        APC  \\\n",
       "0  0012 - Level I Debridement & Destruction   \n",
       "1  0012 - Level I Debridement & Destruction   \n",
       "2  0012 - Level I Debridement & Destruction   \n",
       "3  0012 - Level I Debridement & Destruction   \n",
       "4  0012 - Level I Debridement & Destruction   \n",
       "\n",
       "   Average  Estimated Submitted Charges  \\\n",
       "0                             78.086957   \n",
       "1                            149.589749   \n",
       "2                             50.135411   \n",
       "3                            112.400000   \n",
       "4                            152.045455   \n",
       "\n",
       "                                       Provider Name  \n",
       "0                EAST ALABAMA MEDICAL CENTER AND SNF  \n",
       "1                 CENTRAL PENINSULA GENERAL HOSPITAL  \n",
       "2   UNIVERSITY OF ARIZONA MEDICAL CTR-UNIVERSIT, THE  \n",
       "3                      BANNER BAYWOOD MEDICAL CENTER  \n",
       "4  UNIVERSITY OF ARIZONA MEDICAL CTR- SOUTH CAM, THE  "
      ]
     },
     "execution_count": 158,
     "metadata": {},
     "output_type": "execute_result"
    }
   ],
   "source": [
    "health_out_2=health_out[['APC','Average  Estimated Submitted Charges','Provider Name']]\n",
    "health_out_2.head()"
   ]
  },
  {
   "cell_type": "code",
   "execution_count": 159,
   "metadata": {},
   "outputs": [],
   "source": [
    "merged_out=health_out_2.merge(df1,on='APC',how='inner')\n",
    "#gh.to_csv('after2merge.csv')"
   ]
  },
  {
   "cell_type": "code",
   "execution_count": 160,
   "metadata": {},
   "outputs": [],
   "source": [
    "def count(merged_out):\n",
    "    if ((merged_out['Average  Estimated Submitted Charges_max']  == merged_out['Average  Estimated Submitted Charges'])):\n",
    "        return 1\n",
    "    else:\n",
    "        return 0"
   ]
  },
  {
   "cell_type": "code",
   "execution_count": 161,
   "metadata": {},
   "outputs": [
    {
     "data": {
      "text/plain": [
       "CAPITAL HEALTH MEDICAL CENTER - HOPEWELL    2\n",
       "COLUMBIA HOSPITAL                           2\n",
       "FORT WALTON BEACH MEDICAL CENTER            2\n",
       "Name: Provider Name, dtype: int64"
      ]
     },
     "execution_count": 161,
     "metadata": {},
     "output_type": "execute_result"
    }
   ],
   "source": [
    "merged_out['MAX'] = merged_out.apply(count, axis=1)\n",
    "#hh2\n",
    "merged_out['Provider Name'].where(merged_out['MAX']==1).value_counts().nlargest(3)"
   ]
  },
  {
   "cell_type": "markdown",
   "metadata": {},
   "source": [
    "## 1C : Highest cost claim by region"
   ]
  },
  {
   "cell_type": "code",
   "execution_count": 169,
   "metadata": {},
   "outputs": [],
   "source": [
    "health_in_region = pd.DataFrame(health_in[['DRG Definition', 'Hospital Referral Region (HRR) Description', 'Average Covered Charges']].groupby(['DRG Definition', 'Hospital Referral Region (HRR) Description']).agg('mean').add_suffix('_avg'))\n",
    "#health_in_region.to_csv('APCRegionIn.csv')"
   ]
  },
  {
   "cell_type": "code",
   "execution_count": 172,
   "metadata": {
    "scrolled": true
   },
   "outputs": [],
   "source": [
    "df4=health_in_region.reset_index()"
   ]
  },
  {
   "cell_type": "code",
   "execution_count": 173,
   "metadata": {},
   "outputs": [],
   "source": [
    "health_in_region_max = pd.DataFrame(df4[['DRG Definition','Average Covered Charges_avg']].groupby(['DRG Definition']).agg('max').add_suffix('_max'))\n",
    "health_in_region_max.to_csv('APCRegionIn_max.csv')"
   ]
  },
  {
   "cell_type": "code",
   "execution_count": 174,
   "metadata": {},
   "outputs": [],
   "source": [
    "health_in_region_max_merged=df4.merge(health_in_region_max,on='DRG Definition',how='inner')"
   ]
  },
  {
   "cell_type": "code",
   "execution_count": 175,
   "metadata": {},
   "outputs": [],
   "source": [
    "def count(health_in_region_max_merged):\n",
    "    if ((health_in_region_max_merged['Average Covered Charges_avg']  == health_in_region_max_merged['Average Covered Charges_avg_max'])):\n",
    "        return 1\n",
    "    else:\n",
    "        return 0"
   ]
  },
  {
   "cell_type": "code",
   "execution_count": 176,
   "metadata": {},
   "outputs": [
    {
     "data": {
      "text/plain": [
       "CA - Contra Costa County    36\n",
       "CA - San Mateo County       23\n",
       "CA - San Jose                9\n",
       "Name: Hospital Referral Region (HRR) Description, dtype: int64"
      ]
     },
     "execution_count": 176,
     "metadata": {},
     "output_type": "execute_result"
    }
   ],
   "source": [
    "health_in_region_max_merged['MAX'] = health_in_region_max_merged.apply(count, axis=1)\n",
    "#hh2\n",
    "health_in_region_max_merged['Hospital Referral Region (HRR) Description'].where(health_in_region_max_merged['MAX']==1).value_counts().nlargest(3)"
   ]
  },
  {
   "cell_type": "code",
   "execution_count": null,
   "metadata": {},
   "outputs": [],
   "source": [
    "# Do the same for outpatient data"
   ]
  },
  {
   "cell_type": "code",
   "execution_count": 177,
   "metadata": {},
   "outputs": [],
   "source": [
    "health_out_region = pd.DataFrame(health_out[['APC', 'Hospital Referral Region (HRR) Description', 'Average  Estimated Submitted Charges']].groupby(['APC', 'Hospital Referral Region (HRR) Description']).agg('mean').add_suffix('_avg'))\n",
    "#health_in_region.to_csv('APCRegionIn.csv')"
   ]
  },
  {
   "cell_type": "code",
   "execution_count": 178,
   "metadata": {},
   "outputs": [],
   "source": [
    "df5=health_out_region.reset_index()"
   ]
  },
  {
   "cell_type": "code",
   "execution_count": 179,
   "metadata": {},
   "outputs": [],
   "source": [
    "health_out_region_max = pd.DataFrame(df5[['APC','Average  Estimated Submitted Charges_avg']].groupby(['APC']).agg('max').add_suffix('_max'))\n",
    "#health_out_region_max.to_csv('APCRegionIn_max.csv')"
   ]
  },
  {
   "cell_type": "code",
   "execution_count": 180,
   "metadata": {},
   "outputs": [],
   "source": [
    "health_out_region_max_merged=df5.merge(health_out_region_max,on='APC',how='inner')"
   ]
  },
  {
   "cell_type": "code",
   "execution_count": 181,
   "metadata": {},
   "outputs": [],
   "source": [
    "def count(health_out_region_max_merged):\n",
    "    if ((health_out_region_max_merged['Average  Estimated Submitted Charges_avg']  == health_out_region_max_merged['Average  Estimated Submitted Charges_avg_max'])):\n",
    "        return 1\n",
    "    else:\n",
    "        return 0"
   ]
  },
  {
   "cell_type": "code",
   "execution_count": 182,
   "metadata": {},
   "outputs": [
    {
     "data": {
      "text/plain": [
       "CA - Ventura       3\n",
       "CA - Stockton      2\n",
       "CA - Santa Rosa    2\n",
       "Name: Hospital Referral Region (HRR) Description, dtype: int64"
      ]
     },
     "execution_count": 182,
     "metadata": {},
     "output_type": "execute_result"
    }
   ],
   "source": [
    "health_out_region_max_merged['MAX'] = health_out_region_max_merged.apply(count, axis=1)\n",
    "#hh2\n",
    "health_out_region_max_merged['Hospital Referral Region (HRR) Description'].where(health_out_region_max_merged['MAX']==1).value_counts().nlargest(3)"
   ]
  },
  {
   "cell_type": "markdown",
   "metadata": {},
   "source": [
    "# Part 1D: Highest Number of Procedures and Largest Differences between Claims and Reimbursements"
   ]
  },
  {
   "cell_type": "code",
   "execution_count": 189,
   "metadata": {},
   "outputs": [
    {
     "name": "stdout",
     "output_type": "stream",
     "text": [
      "<class 'pandas.core.frame.DataFrame'>\n",
      "RangeIndex: 163065 entries, 0 to 163064\n",
      "Data columns (total 13 columns):\n",
      "DRG Definition                                163065 non-null object\n",
      "Provider Id                                   163065 non-null int64\n",
      "Provider Name                                 163065 non-null object\n",
      "Provider Street Address                       163065 non-null object\n",
      "Provider City                                 163065 non-null object\n",
      "Provider State                                163065 non-null object\n",
      "Provider Zip Code                             163065 non-null int64\n",
      "Hospital Referral Region (HRR) Description    163065 non-null object\n",
      "Total Discharges                              163065 non-null int64\n",
      "Average Covered Charges                       163065 non-null float64\n",
      "Average Total Payments                        163065 non-null float64\n",
      "Average Medicare Payments                     163065 non-null float64\n",
      "diff                                          163065 non-null float64\n",
      "dtypes: float64(4), int64(3), object(6)\n",
      "memory usage: 16.2+ MB\n"
     ]
    }
   ],
   "source": [
    "health_in['diff']=health_in['Average Covered Charges']-health_in['Average Total Payments']\n",
    "health_in.info()"
   ]
  },
  {
   "cell_type": "code",
   "execution_count": 190,
   "metadata": {},
   "outputs": [],
   "source": [
    "health_in_d = pd.DataFrame(health_in[['DRG Definition','Provider Name' ,'diff']].groupby(['DRG Definition','Provider Name']).agg('mean').add_suffix('_avg'))"
   ]
  },
  {
   "cell_type": "code",
   "execution_count": 193,
   "metadata": {},
   "outputs": [],
   "source": [
    "dd6=health_in_d.to_csv()"
   ]
  },
  {
   "cell_type": "code",
   "execution_count": 191,
   "metadata": {},
   "outputs": [],
   "source": [
    "health_in_d.to_csv('result1.csv')"
   ]
  },
  {
   "cell_type": "code",
   "execution_count": 142,
   "metadata": {},
   "outputs": [],
   "source": [
    "#health_in_max = pd.DataFrame(health_in_region[['DRG Definition', 'Average Covered Charges_avg']].groupby(['DRG Definition']).agg('max').add_suffix('_max'))"
   ]
  },
  {
   "cell_type": "code",
   "execution_count": 194,
   "metadata": {},
   "outputs": [],
   "source": [
    "health_in_d_max = pd.DataFrame(health_in[['DRG Definition','diff']].groupby(['DRG Definition']).agg('max').add_suffix('_max'))\n",
    "#health_out_region_max.to_csv('APCRegionIn_max.csv')"
   ]
  },
  {
   "cell_type": "code",
   "execution_count": 195,
   "metadata": {},
   "outputs": [],
   "source": [
    "health_in_d_max_merged=health_in.merge(health_in_d_max,on='DRG Definition',how='inner')"
   ]
  },
  {
   "cell_type": "code",
   "execution_count": 196,
   "metadata": {},
   "outputs": [],
   "source": [
    "def count(health_in_d_max_merged):\n",
    "    if ((health_in_d_max_merged['diff']  == health_in_d_max_merged['diff_max'])):\n",
    "        return 1\n",
    "    else:\n",
    "        return 0"
   ]
  },
  {
   "cell_type": "code",
   "execution_count": 197,
   "metadata": {},
   "outputs": [
    {
     "data": {
      "text/plain": [
       "BAYONNE HOSPITAL CENTER          27\n",
       "CROZER CHESTER MEDICAL CENTER    12\n",
       "HAHNEMANN UNIVERSITY HOSPITAL     8\n",
       "Name: Provider Name, dtype: int64"
      ]
     },
     "execution_count": 197,
     "metadata": {},
     "output_type": "execute_result"
    }
   ],
   "source": [
    "health_in_d_max_merged['MAX'] = health_in_d_max_merged.apply(count, axis=1)\n",
    "#hh2\n",
    "health_in_d_max_merged['Provider Name'].where(health_in_d_max_merged['MAX']==1).value_counts().nlargest(3)"
   ]
  },
  {
   "cell_type": "code",
   "execution_count": null,
   "metadata": {},
   "outputs": [],
   "source": []
  }
 ],
 "metadata": {
  "kernelspec": {
   "display_name": "Python 2",
   "language": "python",
   "name": "python2"
  },
  "language_info": {
   "codemirror_mode": {
    "name": "ipython",
    "version": 2
   },
   "file_extension": ".py",
   "mimetype": "text/x-python",
   "name": "python",
   "nbconvert_exporter": "python",
   "pygments_lexer": "ipython2",
   "version": "2.7.15"
  }
 },
 "nbformat": 4,
 "nbformat_minor": 2
}
