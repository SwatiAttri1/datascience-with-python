{
 "cells": [
  {
   "cell_type": "markdown",
   "metadata": {},
   "source": [
    "### Hypothesis Testing Case Study"
   ]
  },
  {
   "cell_type": "markdown",
   "metadata": {},
   "source": [
    "card usage has been improved sinificantly from last year usage which is 50."
   ]
  },
  {
   "cell_type": "code",
   "execution_count": 7,
   "metadata": {},
   "outputs": [],
   "source": [
    "import numpy as np\n",
    "import pandas as pd\n",
    "import scipy.stats as stats\n",
    "import matplotlib.pyplot as plt\n",
    "%matplotlib inline\n",
    "import math"
   ]
  },
  {
   "cell_type": "code",
   "execution_count": 2,
   "metadata": {},
   "outputs": [
    {
     "data": {
      "text/plain": [
       "u'C:\\\\Users\\\\hp\\\\Downloads\\\\python\\\\Stats - 2 [Effect Size]\\\\Stats - 2 [Effect Size]'"
      ]
     },
     "execution_count": 2,
     "metadata": {},
     "output_type": "execute_result"
    }
   ],
   "source": [
    "pwd()"
   ]
  },
  {
   "cell_type": "code",
   "execution_count": 6,
   "metadata": {},
   "outputs": [],
   "source": [
    "cust=pd.read_csv(\"cust_seg.csv\")"
   ]
  },
  {
   "cell_type": "code",
   "execution_count": 4,
   "metadata": {},
   "outputs": [
    {
     "data": {
      "text/html": [
       "<div>\n",
       "<style scoped>\n",
       "    .dataframe tbody tr th:only-of-type {\n",
       "        vertical-align: middle;\n",
       "    }\n",
       "\n",
       "    .dataframe tbody tr th {\n",
       "        vertical-align: top;\n",
       "    }\n",
       "\n",
       "    .dataframe thead th {\n",
       "        text-align: right;\n",
       "    }\n",
       "</style>\n",
       "<table border=\"1\" class=\"dataframe\">\n",
       "  <thead>\n",
       "    <tr style=\"text-align: right;\">\n",
       "      <th></th>\n",
       "      <th>custid</th>\n",
       "      <th>sex</th>\n",
       "      <th>AqChannel</th>\n",
       "      <th>region</th>\n",
       "      <th>Marital_status</th>\n",
       "      <th>segment</th>\n",
       "      <th>pre_usage</th>\n",
       "      <th>Post_usage_1month</th>\n",
       "      <th>Latest_mon_usage</th>\n",
       "      <th>post_usage_2ndmonth</th>\n",
       "    </tr>\n",
       "  </thead>\n",
       "  <tbody>\n",
       "    <tr>\n",
       "      <th>0</th>\n",
       "      <td>70</td>\n",
       "      <td>0</td>\n",
       "      <td>4</td>\n",
       "      <td>1</td>\n",
       "      <td>1</td>\n",
       "      <td>1</td>\n",
       "      <td>57</td>\n",
       "      <td>52</td>\n",
       "      <td>49.2</td>\n",
       "      <td>57.2</td>\n",
       "    </tr>\n",
       "    <tr>\n",
       "      <th>1</th>\n",
       "      <td>121</td>\n",
       "      <td>1</td>\n",
       "      <td>4</td>\n",
       "      <td>2</td>\n",
       "      <td>1</td>\n",
       "      <td>3</td>\n",
       "      <td>68</td>\n",
       "      <td>59</td>\n",
       "      <td>63.6</td>\n",
       "      <td>64.9</td>\n",
       "    </tr>\n",
       "    <tr>\n",
       "      <th>2</th>\n",
       "      <td>86</td>\n",
       "      <td>0</td>\n",
       "      <td>4</td>\n",
       "      <td>3</td>\n",
       "      <td>1</td>\n",
       "      <td>1</td>\n",
       "      <td>44</td>\n",
       "      <td>33</td>\n",
       "      <td>64.8</td>\n",
       "      <td>36.3</td>\n",
       "    </tr>\n",
       "    <tr>\n",
       "      <th>3</th>\n",
       "      <td>141</td>\n",
       "      <td>0</td>\n",
       "      <td>4</td>\n",
       "      <td>3</td>\n",
       "      <td>1</td>\n",
       "      <td>3</td>\n",
       "      <td>63</td>\n",
       "      <td>44</td>\n",
       "      <td>56.4</td>\n",
       "      <td>48.4</td>\n",
       "    </tr>\n",
       "    <tr>\n",
       "      <th>4</th>\n",
       "      <td>172</td>\n",
       "      <td>0</td>\n",
       "      <td>4</td>\n",
       "      <td>2</td>\n",
       "      <td>1</td>\n",
       "      <td>2</td>\n",
       "      <td>47</td>\n",
       "      <td>52</td>\n",
       "      <td>68.4</td>\n",
       "      <td>57.2</td>\n",
       "    </tr>\n",
       "  </tbody>\n",
       "</table>\n",
       "</div>"
      ],
      "text/plain": [
       "   custid  sex  AqChannel  region  Marital_status  segment  pre_usage  \\\n",
       "0      70    0          4       1               1        1         57   \n",
       "1     121    1          4       2               1        3         68   \n",
       "2      86    0          4       3               1        1         44   \n",
       "3     141    0          4       3               1        3         63   \n",
       "4     172    0          4       2               1        2         47   \n",
       "\n",
       "   Post_usage_1month  Latest_mon_usage  post_usage_2ndmonth  \n",
       "0                 52              49.2                 57.2  \n",
       "1                 59              63.6                 64.9  \n",
       "2                 33              64.8                 36.3  \n",
       "3                 44              56.4                 48.4  \n",
       "4                 52              68.4                 57.2  "
      ]
     },
     "execution_count": 4,
     "metadata": {},
     "output_type": "execute_result"
    }
   ],
   "source": [
    "cust.head(5)"
   ]
  },
  {
   "cell_type": "code",
   "execution_count": 5,
   "metadata": {},
   "outputs": [
    {
     "data": {
      "text/plain": [
       "Index([u'custid', u'sex', u'AqChannel', u'region', u'Marital_status',\n",
       "       u'segment', u'pre_usage', u'Post_usage_1month', u'Latest_mon_usage',\n",
       "       u'post_usage_2ndmonth'],\n",
       "      dtype='object')"
      ]
     },
     "execution_count": 5,
     "metadata": {},
     "output_type": "execute_result"
    }
   ],
   "source": [
    "cust.columns"
   ]
  },
  {
   "cell_type": "code",
   "execution_count": 6,
   "metadata": {},
   "outputs": [
    {
     "data": {
      "text/plain": [
       "63.17400000000001"
      ]
     },
     "execution_count": 6,
     "metadata": {},
     "output_type": "execute_result"
    }
   ],
   "source": [
    "cust.Latest_mon_usage.mean()"
   ]
  },
  {
   "cell_type": "code",
   "execution_count": 7,
   "metadata": {},
   "outputs": [
    {
     "data": {
      "text/plain": [
       "11.242137352892753"
      ]
     },
     "execution_count": 7,
     "metadata": {},
     "output_type": "execute_result"
    }
   ],
   "source": [
    "cust.Latest_mon_usage.std()"
   ]
  },
  {
   "cell_type": "markdown",
   "metadata": {},
   "source": [
    "### One Sample T-Test\n"
   ]
  },
  {
   "cell_type": "markdown",
   "metadata": {},
   "source": [
    "###### card usage has been improved sinificantly from last year usage which is 50."
   ]
  },
  {
   "cell_type": "code",
   "execution_count": 8,
   "metadata": {},
   "outputs": [
    {
     "data": {
      "text/plain": [
       "Ttest_1sampResult(statistic=16.57233752433133, pvalue=2.4963719280931583e-39)"
      ]
     },
     "execution_count": 8,
     "metadata": {},
     "output_type": "execute_result"
    }
   ],
   "source": [
    "stats.ttest_1samp(a= cust.Latest_mon_usage,               # Sample data\n",
    "                 popmean= 50)  # Pop mean"
   ]
  },
  {
   "cell_type": "markdown",
   "metadata": {},
   "source": [
    "This means card usgae has not been imporoved from last year usage which is 50"
   ]
  },
  {
   "cell_type": "code",
   "execution_count": 7,
   "metadata": {},
   "outputs": [
    {
     "data": {
      "text/plain": [
       "63.17400000000001"
      ]
     },
     "execution_count": 7,
     "metadata": {},
     "output_type": "execute_result"
    }
   ],
   "source": [
    "cust.Latest_mon_usage.mean()"
   ]
  },
  {
   "cell_type": "markdown",
   "metadata": {},
   "source": [
    "### Two Sample T-Test (Paired)"
   ]
  },
  {
   "cell_type": "markdown",
   "metadata": {},
   "source": [
    "The last campaign was successful in terms of credit card."
   ]
  },
  {
   "cell_type": "code",
   "execution_count": 9,
   "metadata": {},
   "outputs": [
    {
     "name": "stdout",
     "output_type": "stream",
     "text": [
      "52.23\n",
      "58.0525\n"
     ]
    }
   ],
   "source": [
    "print cust.pre_usage.mean()\n",
    "print cust.post_usage_2ndmonth.mean()"
   ]
  },
  {
   "cell_type": "code",
   "execution_count": 10,
   "metadata": {},
   "outputs": [
    {
     "data": {
      "text/plain": [
       "Ttest_relResult(statistic=-8.866832246938742, pvalue=4.295733828012836e-16)"
      ]
     },
     "execution_count": 10,
     "metadata": {},
     "output_type": "execute_result"
    }
   ],
   "source": [
    "#stats.ttest_rel(a = before, b = after)\n",
    "stats.ttest_rel(a=cust.pre_usage,\n",
    "                b=cust.post_usage_2ndmonth)    # Assume samples have equal variance?"
   ]
  },
  {
   "cell_type": "markdown",
   "metadata": {},
   "source": [
    "The last campaign was successfull in terms of credit card usage"
   ]
  },
  {
   "cell_type": "markdown",
   "metadata": {},
   "source": [
    "### Two sample T-Test (Independent)"
   ]
  },
  {
   "cell_type": "markdown",
   "metadata": {},
   "source": [
    "Is there any difference between males and females in terms of credit card usgae?"
   ]
  },
  {
   "cell_type": "code",
   "execution_count": 11,
   "metadata": {},
   "outputs": [],
   "source": [
    "Males_spend = cust.Post_usage_1month[cust.sex==0]\n",
    "FeMales_spend = cust.Post_usage_1month[cust.sex==1]"
   ]
  },
  {
   "cell_type": "code",
   "execution_count": 12,
   "metadata": {},
   "outputs": [
    {
     "name": "stdout",
     "output_type": "stream",
     "text": [
      "1     59\n",
      "92    62\n",
      "93    44\n",
      "Name: Post_usage_1month, dtype: int64\n",
      "0    52\n",
      "2    33\n",
      "3    44\n",
      "Name: Post_usage_1month, dtype: int64\n"
     ]
    }
   ],
   "source": [
    "print FeMales_spend.head(3)\n",
    "print Males_spend.head(3)"
   ]
  },
  {
   "cell_type": "code",
   "execution_count": 13,
   "metadata": {},
   "outputs": [
    {
     "name": "stdout",
     "output_type": "stream",
     "text": [
      "50.1208791209\n",
      "54.9908256881\n"
     ]
    }
   ],
   "source": [
    "print Males_spend.mean()\n",
    "print FeMales_spend.mean()"
   ]
  },
  {
   "cell_type": "code",
   "execution_count": 14,
   "metadata": {},
   "outputs": [
    {
     "name": "stdout",
     "output_type": "stream",
     "text": [
      "10.3051606973\n",
      "8.13371516959\n"
     ]
    }
   ],
   "source": [
    "print Males_spend.std()\n",
    "print FeMales_spend.std()"
   ]
  },
  {
   "cell_type": "code",
   "execution_count": 15,
   "metadata": {},
   "outputs": [
    {
     "data": {
      "text/plain": [
       "Ttest_indResult(statistic=-3.6564080478875276, pvalue=0.00034088493594266187)"
      ]
     },
     "execution_count": 15,
     "metadata": {},
     "output_type": "execute_result"
    }
   ],
   "source": [
    "stats.ttest_ind(a= Males_spend,\n",
    "                b= FeMales_spend,\n",
    "                equal_var=False)    # Assume samples have equal variance?"
   ]
  },
  {
   "cell_type": "code",
   "execution_count": 16,
   "metadata": {},
   "outputs": [
    {
     "data": {
      "text/plain": [
       "Ttest_indResult(statistic=-3.7340738531536797, pvalue=0.00024625461203549315)"
      ]
     },
     "execution_count": 16,
     "metadata": {},
     "output_type": "execute_result"
    }
   ],
   "source": [
    "stats.ttest_ind(a= Males_spend,\n",
    "                b= FeMales_spend,\n",
    "                equal_var=True)    # Assume samples have equal variance?"
   ]
  },
  {
   "cell_type": "code",
   "execution_count": 17,
   "metadata": {},
   "outputs": [
    {
     "data": {
      "text/plain": [
       "F_onewayResult(statistic=13.94330754080599, pvalue=0.0002462546120354903)"
      ]
     },
     "execution_count": 17,
     "metadata": {},
     "output_type": "execute_result"
    }
   ],
   "source": [
    "stats.f_oneway(Males_spend, FeMales_spend)"
   ]
  },
  {
   "cell_type": "markdown",
   "metadata": {},
   "source": [
    "Yes there is difference between male and femalde credit card usage"
   ]
  },
  {
   "cell_type": "markdown",
   "metadata": {},
   "source": [
    "### ANOVA"
   ]
  },
  {
   "cell_type": "markdown",
   "metadata": {},
   "source": [
    "Is there any difference between segments of customers in terms of credit card usage?"
   ]
  },
  {
   "cell_type": "code",
   "execution_count": null,
   "metadata": {},
   "outputs": [],
   "source": [
    "cust.segment.value_counts()"
   ]
  },
  {
   "cell_type": "code",
   "execution_count": 19,
   "metadata": {},
   "outputs": [
    {
     "data": {
      "text/plain": [
       "F_onewayResult(statistic=29.279283801321778, pvalue=7.3640108335267396e-12)"
      ]
     },
     "execution_count": 19,
     "metadata": {},
     "output_type": "execute_result"
    }
   ],
   "source": [
    "s1 = cust.Latest_mon_usage[cust.segment==1]\n",
    "s2 = cust.Latest_mon_usage[cust.segment==2]\n",
    "s3 = cust.Latest_mon_usage[cust.segment==3]\n",
    "\n",
    "# Perform the ANOVA\n",
    "stats.f_oneway(s1, s2, s3)"
   ]
  },
  {
   "cell_type": "code",
   "execution_count": 22,
   "metadata": {},
   "outputs": [
    {
     "data": {
      "text/plain": [
       "11.242137352892753"
      ]
     },
     "execution_count": 22,
     "metadata": {},
     "output_type": "execute_result"
    }
   ],
   "source": [
    "cust.Latest_mon_usage.mean()\n",
    "cust.Latest_mon_usage.std()"
   ]
  },
  {
   "cell_type": "code",
   "execution_count": 20,
   "metadata": {},
   "outputs": [
    {
     "name": "stdout",
     "output_type": "stream",
     "text": [
      "60.0266666667\n",
      "68.08\n",
      "55.704\n"
     ]
    }
   ],
   "source": [
    "print s1.mean(); print s2.mean(); print s3.mean()"
   ]
  },
  {
   "cell_type": "markdown",
   "metadata": {},
   "source": [
    "Yes ,there is difference between segments of customers in terms of credit card usage."
   ]
  },
  {
   "cell_type": "markdown",
   "metadata": {},
   "source": [
    "### Chi-squre Test"
   ]
  },
  {
   "cell_type": "markdown",
   "metadata": {},
   "source": [
    "##### Is there any relation between region and segment?"
   ]
  },
  {
   "cell_type": "code",
   "execution_count": 19,
   "metadata": {},
   "outputs": [
    {
     "data": {
      "text/html": [
       "<div>\n",
       "<style scoped>\n",
       "    .dataframe tbody tr th:only-of-type {\n",
       "        vertical-align: middle;\n",
       "    }\n",
       "\n",
       "    .dataframe tbody tr th {\n",
       "        vertical-align: top;\n",
       "    }\n",
       "\n",
       "    .dataframe thead th {\n",
       "        text-align: right;\n",
       "    }\n",
       "</style>\n",
       "<table border=\"1\" class=\"dataframe\">\n",
       "  <thead>\n",
       "    <tr style=\"text-align: right;\">\n",
       "      <th>region</th>\n",
       "      <th>1</th>\n",
       "      <th>2</th>\n",
       "      <th>3</th>\n",
       "      <th>All</th>\n",
       "    </tr>\n",
       "    <tr>\n",
       "      <th>segment</th>\n",
       "      <th></th>\n",
       "      <th></th>\n",
       "      <th></th>\n",
       "      <th></th>\n",
       "    </tr>\n",
       "  </thead>\n",
       "  <tbody>\n",
       "    <tr>\n",
       "      <th>1</th>\n",
       "      <td>16</td>\n",
       "      <td>20</td>\n",
       "      <td>9</td>\n",
       "      <td>45</td>\n",
       "    </tr>\n",
       "    <tr>\n",
       "      <th>2</th>\n",
       "      <td>19</td>\n",
       "      <td>44</td>\n",
       "      <td>42</td>\n",
       "      <td>105</td>\n",
       "    </tr>\n",
       "    <tr>\n",
       "      <th>3</th>\n",
       "      <td>12</td>\n",
       "      <td>31</td>\n",
       "      <td>7</td>\n",
       "      <td>50</td>\n",
       "    </tr>\n",
       "    <tr>\n",
       "      <th>All</th>\n",
       "      <td>47</td>\n",
       "      <td>95</td>\n",
       "      <td>58</td>\n",
       "      <td>200</td>\n",
       "    </tr>\n",
       "  </tbody>\n",
       "</table>\n",
       "</div>"
      ],
      "text/plain": [
       "region    1   2   3  All\n",
       "segment                 \n",
       "1        16  20   9   45\n",
       "2        19  44  42  105\n",
       "3        12  31   7   50\n",
       "All      47  95  58  200"
      ]
     },
     "execution_count": 19,
     "metadata": {},
     "output_type": "execute_result"
    }
   ],
   "source": [
    "t=pd.crosstab(cust.segment, cust.region, margins = True)\n",
    "t"
   ]
  },
  {
   "cell_type": "code",
   "execution_count": 8,
   "metadata": {},
   "outputs": [
    {
     "name": "stdout",
     "output_type": "stream",
     "text": [
      "(   ChiSquare   P-Value\n",
      "0  16.604442  0.002307, '\\n')\n"
     ]
    }
   ],
   "source": [
    "chisq_df = pd.DataFrame()\n",
    "cross_tab = pd.crosstab(cust['segment'],cust['region'], margins=False)\n",
    "stats.chi2_contingency(observed=cross_tab)[1]\n",
    "temp = pd.DataFrame([stats.chi2_contingency(observed=cross_tab)[0],stats.chi2_contingency(observed=cross_tab)[1] ]).T\n",
    "temp.columns = ['ChiSquare','P-Value']\n",
    "chisq_df = pd.concat([chisq_df, temp], axis=0, ignore_index=True)\n",
    "    \n",
    "print(chisq_df, '\\n')\n"
   ]
  },
  {
   "cell_type": "markdown",
   "metadata": {},
   "source": [
    "Since p value is quite low we can reject the null hypothesis that they are independent and can say that region and sement are related."
   ]
  },
  {
   "cell_type": "markdown",
   "metadata": {},
   "source": [
    "### Correlation"
   ]
  },
  {
   "cell_type": "markdown",
   "metadata": {},
   "source": [
    "Is the relationship between card usage in the latest month and pre usage of campaign?"
   ]
  },
  {
   "cell_type": "code",
   "execution_count": 22,
   "metadata": {},
   "outputs": [
    {
     "name": "stdout",
     "output_type": "stream",
     "text": [
      "[[1.         0.66228013]\n",
      " [0.66228013 1.        ]]\n",
      "(0.6622801251558604, 1.2767419295068468e-26)\n"
     ]
    }
   ],
   "source": [
    "print np.corrcoef(cust.Latest_mon_usage, cust.pre_usage)\n",
    "print stats.stats.pearsonr(cust.Latest_mon_usage, cust.pre_usage)"
   ]
  },
  {
   "cell_type": "markdown",
   "metadata": {},
   "source": [
    "### Simple regression"
   ]
  },
  {
   "cell_type": "code",
   "execution_count": 24,
   "metadata": {},
   "outputs": [
    {
     "data": {
      "text/html": [
       "<div>\n",
       "<style scoped>\n",
       "    .dataframe tbody tr th:only-of-type {\n",
       "        vertical-align: middle;\n",
       "    }\n",
       "\n",
       "    .dataframe tbody tr th {\n",
       "        vertical-align: top;\n",
       "    }\n",
       "\n",
       "    .dataframe thead th {\n",
       "        text-align: right;\n",
       "    }\n",
       "</style>\n",
       "<table border=\"1\" class=\"dataframe\">\n",
       "  <thead>\n",
       "    <tr style=\"text-align: right;\">\n",
       "      <th></th>\n",
       "      <th>custid</th>\n",
       "      <th>sex</th>\n",
       "      <th>AqChannel</th>\n",
       "      <th>region</th>\n",
       "      <th>Marital_status</th>\n",
       "      <th>segment</th>\n",
       "      <th>pre_usage</th>\n",
       "      <th>Post_usage_1month</th>\n",
       "      <th>Latest_mon_usage</th>\n",
       "      <th>post_usage_2ndmonth</th>\n",
       "    </tr>\n",
       "  </thead>\n",
       "  <tbody>\n",
       "    <tr>\n",
       "      <th>custid</th>\n",
       "      <td>1.000000</td>\n",
       "      <td>-0.087217</td>\n",
       "      <td>0.748793</td>\n",
       "      <td>0.210912</td>\n",
       "      <td>0.482383</td>\n",
       "      <td>-0.058029</td>\n",
       "      <td>0.148620</td>\n",
       "      <td>0.186688</td>\n",
       "      <td>0.219234</td>\n",
       "      <td>0.186688</td>\n",
       "    </tr>\n",
       "    <tr>\n",
       "      <th>sex</th>\n",
       "      <td>-0.087217</td>\n",
       "      <td>1.000000</td>\n",
       "      <td>0.001259</td>\n",
       "      <td>-0.125009</td>\n",
       "      <td>0.015337</td>\n",
       "      <td>0.004009</td>\n",
       "      <td>-0.053084</td>\n",
       "      <td>0.256492</td>\n",
       "      <td>-0.029338</td>\n",
       "      <td>0.256492</td>\n",
       "    </tr>\n",
       "    <tr>\n",
       "      <th>AqChannel</th>\n",
       "      <td>0.748793</td>\n",
       "      <td>0.001259</td>\n",
       "      <td>1.000000</td>\n",
       "      <td>0.195364</td>\n",
       "      <td>0.108386</td>\n",
       "      <td>-0.050060</td>\n",
       "      <td>0.243400</td>\n",
       "      <td>0.219999</td>\n",
       "      <td>0.202553</td>\n",
       "      <td>0.219999</td>\n",
       "    </tr>\n",
       "    <tr>\n",
       "      <th>region</th>\n",
       "      <td>0.210912</td>\n",
       "      <td>-0.125009</td>\n",
       "      <td>0.195364</td>\n",
       "      <td>1.000000</td>\n",
       "      <td>0.136673</td>\n",
       "      <td>0.017333</td>\n",
       "      <td>0.293322</td>\n",
       "      <td>0.207494</td>\n",
       "      <td>0.272459</td>\n",
       "      <td>0.207494</td>\n",
       "    </tr>\n",
       "    <tr>\n",
       "      <th>Marital_status</th>\n",
       "      <td>0.482383</td>\n",
       "      <td>0.015337</td>\n",
       "      <td>0.108386</td>\n",
       "      <td>0.136673</td>\n",
       "      <td>1.000000</td>\n",
       "      <td>-0.095050</td>\n",
       "      <td>0.086201</td>\n",
       "      <td>0.127228</td>\n",
       "      <td>0.098309</td>\n",
       "      <td>0.127228</td>\n",
       "    </tr>\n",
       "    <tr>\n",
       "      <th>segment</th>\n",
       "      <td>-0.058029</td>\n",
       "      <td>0.004009</td>\n",
       "      <td>-0.050060</td>\n",
       "      <td>0.017333</td>\n",
       "      <td>-0.095050</td>\n",
       "      <td>1.000000</td>\n",
       "      <td>-0.134973</td>\n",
       "      <td>-0.181107</td>\n",
       "      <td>-0.150104</td>\n",
       "      <td>-0.181107</td>\n",
       "    </tr>\n",
       "    <tr>\n",
       "      <th>pre_usage</th>\n",
       "      <td>0.148620</td>\n",
       "      <td>-0.053084</td>\n",
       "      <td>0.243400</td>\n",
       "      <td>0.293322</td>\n",
       "      <td>0.086201</td>\n",
       "      <td>-0.134973</td>\n",
       "      <td>1.000000</td>\n",
       "      <td>0.596776</td>\n",
       "      <td>0.662280</td>\n",
       "      <td>0.596776</td>\n",
       "    </tr>\n",
       "    <tr>\n",
       "      <th>Post_usage_1month</th>\n",
       "      <td>0.186688</td>\n",
       "      <td>0.256492</td>\n",
       "      <td>0.219999</td>\n",
       "      <td>0.207494</td>\n",
       "      <td>0.127228</td>\n",
       "      <td>-0.181107</td>\n",
       "      <td>0.596776</td>\n",
       "      <td>1.000000</td>\n",
       "      <td>0.617449</td>\n",
       "      <td>1.000000</td>\n",
       "    </tr>\n",
       "    <tr>\n",
       "      <th>Latest_mon_usage</th>\n",
       "      <td>0.219234</td>\n",
       "      <td>-0.029338</td>\n",
       "      <td>0.202553</td>\n",
       "      <td>0.272459</td>\n",
       "      <td>0.098309</td>\n",
       "      <td>-0.150104</td>\n",
       "      <td>0.662280</td>\n",
       "      <td>0.617449</td>\n",
       "      <td>1.000000</td>\n",
       "      <td>0.617449</td>\n",
       "    </tr>\n",
       "    <tr>\n",
       "      <th>post_usage_2ndmonth</th>\n",
       "      <td>0.186688</td>\n",
       "      <td>0.256492</td>\n",
       "      <td>0.219999</td>\n",
       "      <td>0.207494</td>\n",
       "      <td>0.127228</td>\n",
       "      <td>-0.181107</td>\n",
       "      <td>0.596776</td>\n",
       "      <td>1.000000</td>\n",
       "      <td>0.617449</td>\n",
       "      <td>1.000000</td>\n",
       "    </tr>\n",
       "  </tbody>\n",
       "</table>\n",
       "</div>"
      ],
      "text/plain": [
       "                       custid       sex  AqChannel    region  Marital_status  \\\n",
       "custid               1.000000 -0.087217   0.748793  0.210912        0.482383   \n",
       "sex                 -0.087217  1.000000   0.001259 -0.125009        0.015337   \n",
       "AqChannel            0.748793  0.001259   1.000000  0.195364        0.108386   \n",
       "region               0.210912 -0.125009   0.195364  1.000000        0.136673   \n",
       "Marital_status       0.482383  0.015337   0.108386  0.136673        1.000000   \n",
       "segment             -0.058029  0.004009  -0.050060  0.017333       -0.095050   \n",
       "pre_usage            0.148620 -0.053084   0.243400  0.293322        0.086201   \n",
       "Post_usage_1month    0.186688  0.256492   0.219999  0.207494        0.127228   \n",
       "Latest_mon_usage     0.219234 -0.029338   0.202553  0.272459        0.098309   \n",
       "post_usage_2ndmonth  0.186688  0.256492   0.219999  0.207494        0.127228   \n",
       "\n",
       "                      segment  pre_usage  Post_usage_1month  Latest_mon_usage  \\\n",
       "custid              -0.058029   0.148620           0.186688          0.219234   \n",
       "sex                  0.004009  -0.053084           0.256492         -0.029338   \n",
       "AqChannel           -0.050060   0.243400           0.219999          0.202553   \n",
       "region               0.017333   0.293322           0.207494          0.272459   \n",
       "Marital_status      -0.095050   0.086201           0.127228          0.098309   \n",
       "segment              1.000000  -0.134973          -0.181107         -0.150104   \n",
       "pre_usage           -0.134973   1.000000           0.596776          0.662280   \n",
       "Post_usage_1month   -0.181107   0.596776           1.000000          0.617449   \n",
       "Latest_mon_usage    -0.150104   0.662280           0.617449          1.000000   \n",
       "post_usage_2ndmonth -0.181107   0.596776           1.000000          0.617449   \n",
       "\n",
       "                     post_usage_2ndmonth  \n",
       "custid                          0.186688  \n",
       "sex                             0.256492  \n",
       "AqChannel                       0.219999  \n",
       "region                          0.207494  \n",
       "Marital_status                  0.127228  \n",
       "segment                        -0.181107  \n",
       "pre_usage                       0.596776  \n",
       "Post_usage_1month               1.000000  \n",
       "Latest_mon_usage                0.617449  \n",
       "post_usage_2ndmonth             1.000000  "
      ]
     },
     "execution_count": 24,
     "metadata": {},
     "output_type": "execute_result"
    }
   ],
   "source": [
    "cust.corr()"
   ]
  },
  {
   "cell_type": "code",
   "execution_count": null,
   "metadata": {
    "collapsed": true
   },
   "outputs": [],
   "source": [
    "sm.OLS?"
   ]
  },
  {
   "cell_type": "code",
   "execution_count": null,
   "metadata": {},
   "outputs": [],
   "source": [
    " statsmodels.tools.add_constant?"
   ]
  },
  {
   "cell_type": "code",
   "execution_count": 23,
   "metadata": {},
   "outputs": [
    {
     "name": "stdout",
     "output_type": "stream",
     "text": [
      "                            OLS Regression Results                            \n",
      "==============================================================================\n",
      "Dep. Variable:       Latest_mon_usage   R-squared:                       0.439\n",
      "Model:                            OLS   Adj. R-squared:                  0.436\n",
      "Method:                 Least Squares   F-statistic:                     154.7\n",
      "Date:                Mon, 12 Nov 2018   Prob (F-statistic):           1.28e-26\n",
      "Time:                        19:20:41   Log-Likelihood:                -709.49\n",
      "No. Observations:                 200   AIC:                             1423.\n",
      "Df Residuals:                     198   BIC:                             1430.\n",
      "Df Model:                           1                                         \n",
      "Covariance Type:            nonrobust                                         \n",
      "==============================================================================\n",
      "                 coef    std err          t      P>|t|      [0.025      0.975]\n",
      "------------------------------------------------------------------------------\n",
      "const         25.2458      3.107      8.125      0.000      19.118      31.374\n",
      "pre_usage      0.7262      0.058     12.438      0.000       0.611       0.841\n",
      "==============================================================================\n",
      "Omnibus:                        0.004   Durbin-Watson:                   2.226\n",
      "Prob(Omnibus):                  0.998   Jarque-Bera (JB):                0.077\n",
      "Skew:                           0.004   Prob(JB):                        0.962\n",
      "Kurtosis:                       2.904   Cond. No.                         277.\n",
      "==============================================================================\n",
      "\n",
      "Warnings:\n",
      "[1] Standard Errors assume that the covariance matrix of the errors is correctly specified.\n"
     ]
    }
   ],
   "source": [
    "import statsmodels.api as sm\n",
    "Y = cust.Latest_mon_usage\n",
    "X = sm.add_constant(cust.pre_usage )\n",
    "mod = sm.OLS(Y, X)\n",
    "res = mod.fit()\n",
    "print res.summary()"
   ]
  },
  {
   "cell_type": "markdown",
   "metadata": {},
   "source": [
    "Since pearson correlation is 0.66 ,card usage in the latest month and pre usage of campaign are somewhat .correlated"
   ]
  }
 ],
 "metadata": {
  "anaconda-cloud": {},
  "kernelspec": {
   "display_name": "Python 2",
   "language": "python",
   "name": "python2"
  },
  "language_info": {
   "codemirror_mode": {
    "name": "ipython",
    "version": 2
   },
   "file_extension": ".py",
   "mimetype": "text/x-python",
   "name": "python",
   "nbconvert_exporter": "python",
   "pygments_lexer": "ipython2",
   "version": "2.7.15"
  }
 },
 "nbformat": 4,
 "nbformat_minor": 1
}
